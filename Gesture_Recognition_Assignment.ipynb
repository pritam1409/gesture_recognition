{
 "cells": [
  {
   "cell_type": "markdown",
   "metadata": {},
   "source": [
    "# Gesture Recognition\n",
    "In this group project, you are going to build a 3D Conv model that will be able to predict the 5 gestures correctly. Please import the following libraries to get started."
   ]
  },
  {
   "cell_type": "code",
   "execution_count": 1,
   "metadata": {},
   "outputs": [],
   "source": [
    "import numpy as np\n",
    "import os\n",
    "from scipy.misc import imread, imresize\n",
    "import datetime\n",
    "import os\n",
    "from skimage.transform import resize\n",
    "import imageio\n",
    "import matplotlib.pyplot as plt"
   ]
  },
  {
   "cell_type": "markdown",
   "metadata": {},
   "source": [
    "We set the random seed so that the results don't vary drastically."
   ]
  },
  {
   "cell_type": "code",
   "execution_count": 2,
   "metadata": {},
   "outputs": [],
   "source": [
    "np.random.seed(30)\n",
    "import random as rn\n",
    "rn.seed(30)\n",
    "import tensorflow as tf\n",
    "tf.random.set_seed(30)"
   ]
  },
  {
   "cell_type": "markdown",
   "metadata": {},
   "source": [
    "In this block, you read the folder names for training and validation. You also set the `batch_size` here. Note that you set the batch size in such a way that you are able to use the GPU in full capacity. You keep increasing the batch size until the machine throws an error."
   ]
  },
  {
   "cell_type": "code",
   "execution_count": 3,
   "metadata": {},
   "outputs": [],
   "source": [
    "train_doc = np.random.permutation(open('Project_data/train.csv').readlines())\n",
    "val_doc = np.random.permutation(open('Project_data/val.csv').readlines())\n",
    "batch_size = 32"
   ]
  },
  {
   "cell_type": "markdown",
   "metadata": {},
   "source": [
    "## Generator\n",
    "This is one of the most important part of the code. The overall structure of the generator has been given. In the generator, you are going to preprocess the images as you have images of 2 different dimensions as well as create a batch of video frames. You have to experiment with `img_idx`, `y`,`z` and normalization such that you get high accuracy."
   ]
  },
  {
   "cell_type": "code",
   "execution_count": 4,
   "metadata": {},
   "outputs": [],
   "source": [
    "def generator(source_path, folder_list, batch_size):\n",
    "    print( 'Source path = ', source_path, '; batch size =', batch_size)\n",
    "    img_idx = [2,3,4,6,7,8,10,12,14,15,16,18,19,22,23,24,26,27,28,29]\n",
    "    while True:\n",
    "        t = np.random.permutation(folder_list)\n",
    "        num_batches = len(t)//batch_size\n",
    "        for batch in range(num_batches): # we iterate over the number of batches\n",
    "            batch_data = np.zeros((batch_size,20,84,84,3))\n",
    "            batch_labels = np.zeros((batch_size,5)) # batch_labels is the one hot representation of the output\n",
    "            for folder in range(batch_size): # iterate over the batch_size\n",
    "                imgs = os.listdir(source_path+'/'+ t[folder + (batch*batch_size)].split(';')[0]) # read all the images in the folder\n",
    "                for idx,item in enumerate(img_idx): #  Iterate iver the frames/images of a folder to read them in\n",
    "                    image = imageio.imread(source_path+'/'+ t[folder + (batch*batch_size)].strip().split(';')[0]+'/'+imgs[item]).astype(np.float32)\n",
    "                    \n",
    "                    image = image[:,20:,:]\n",
    "                    #resizing the image\n",
    "                    image = resize(image,(84,84,3), mode='constant', anti_aliasing=True)\n",
    "                    \n",
    "                    batch_data[folder,idx,:,:,0] =image[:,:,0]/255\n",
    "                    batch_data[folder,idx,:,:,1] =image[:,:,1]/255\n",
    "                    batch_data[folder,idx,:,:,2] =image[:,:,2]/255\n",
    "                    \n",
    "                batch_labels[folder, int(t[folder + (batch*batch_size)].strip().split(';')[2])] = 1\n",
    "            yield batch_data, batch_labels #you yield the batch_data and the batch_labels, remember what does yield do\n",
    "\n",
    "        \n",
    "        # write the code for the remaining data points which are left after full batches\n",
    "        if(len(t)%batch_size) != 0:\n",
    "            batch_data = np.zeros((batch_size,20,84,84,3))\n",
    "            batch_labels = np.zeros((batch_size,5)) # batch_labels is the one hot representation of the output\n",
    "            for folder in range(batch_size): # iterate over the batch_size\n",
    "                imgs = os.listdir(source_path+'/'+ t[folder + (batch*batch_size)].split(';')[0]) # read all the images in the folder\n",
    "                for idx,item in enumerate(img_idx): #  Iterate iver the frames/images of a folder to read them in\n",
    "                    image = imageio.imread(source_path+'/'+ t[folder + (batch*batch_size)].strip().split(';')[0]+'/'+imgs[item]).astype(np.float32)\n",
    "                    \n",
    "                    image = image[:,20:,:]\n",
    "                    #resizing the image\n",
    "                    image = resize(image,(84,84,3), mode='constant', anti_aliasing=True)\n",
    "                    \n",
    "                    batch_data[folder,idx,:,:,0] =image[:,:,0]/255\n",
    "                    batch_data[folder,idx,:,:,1] =image[:,:,1]/255\n",
    "                    batch_data[folder,idx,:,:,2] =image[:,:,2]/255\n",
    "                    \n",
    "                batch_labels[folder, int(t[folder + (batch*batch_size)].strip().split(';')[2])] = 1\n",
    "            yield batch_data, batch_labels #you yield the batch_data and the batch_labels, remember what does yield do"
   ]
  },
  {
   "cell_type": "markdown",
   "metadata": {},
   "source": [
    "Note here that a video is represented above in the generator as (number of images, height, width, number of channels). Take this into consideration while creating the model architecture."
   ]
  },
  {
   "cell_type": "code",
   "execution_count": 5,
   "metadata": {},
   "outputs": [
    {
     "name": "stdout",
     "output_type": "stream",
     "text": [
      "# training sequences = 663\n",
      "# validation sequences = 100\n",
      "# epochs = 30\n"
     ]
    }
   ],
   "source": [
    "curr_dt_time = datetime.datetime.now()\n",
    "train_path = 'Project_data/train'\n",
    "val_path = 'Project_data/val'\n",
    "num_train_sequences = len(train_doc)\n",
    "print('# training sequences =', num_train_sequences)\n",
    "num_val_sequences = len(val_doc)\n",
    "print('# validation sequences =', num_val_sequences)\n",
    "num_epochs = 30\n",
    "print ('# epochs =', num_epochs)"
   ]
  },
  {
   "cell_type": "markdown",
   "metadata": {},
   "source": [
    "## Model"
   ]
  },
  {
   "cell_type": "code",
   "execution_count": 8,
   "metadata": {},
   "outputs": [],
   "source": [
    "from keras.models import Sequential, Model\n",
    "from keras.layers import Dense, GRU, Flatten, TimeDistributed, Flatten, BatchNormalization, Activation\n",
    "from keras.layers.convolutional import Conv3D, MaxPooling3D\n",
    "from keras.callbacks import ModelCheckpoint, ReduceLROnPlateau\n",
    "from keras.layers import Dense, Dropout, Activation, Flatten\n",
    "from keras import optimizers\n",
    "from tensorflow.keras.regularizers import l2, l1\n",
    "\n",
    "\n",
    "model = Sequential()\n",
    "model.add(Conv3D(32, (3, 3,3), padding='same',\n",
    "                 input_shape=[20, 84, 84, 3]))\n",
    "model.add(Activation('relu'))\n",
    "model.add(Conv3D(32, (3, 3,3)))\n",
    "model.add(Activation('relu'))\n",
    "model.add(MaxPooling3D(pool_size=(2, 2,2)))\n",
    "model.add(BatchNormalization())\n",
    "model.add(Dropout(0.25))\n",
    "\n",
    "model.add(Conv3D(64, (3, 3,3), padding='same'))\n",
    "model.add(Activation('relu'))\n",
    "model.add(Conv3D(64, (3, 3,3)))\n",
    "model.add(Activation('relu'))\n",
    "model.add(MaxPooling3D(pool_size=(2, 2,2)))\n",
    "model.add(BatchNormalization())\n",
    "model.add(Dropout(0.25))\n",
    "\n",
    "model.add(Flatten())\n",
    "model.add(Dense(512))\n",
    "model.add(Activation('relu'))\n",
    "model.add(Dropout(0.5))\n",
    "model.add(Dense(5))\n",
    "model.add(Activation('softmax'))\n"
   ]
  },
  {
   "cell_type": "markdown",
   "metadata": {},
   "source": [
    "Now that you have written the model, the next step is to `compile` the model. When you print the `summary` of the model, you'll see the total number of parameters you have to train."
   ]
  },
  {
   "cell_type": "code",
   "execution_count": 9,
   "metadata": {
    "scrolled": true
   },
   "outputs": [
    {
     "name": "stdout",
     "output_type": "stream",
     "text": [
      "Model: \"sequential\"\n",
      "_________________________________________________________________\n",
      "Layer (type)                 Output Shape              Param #   \n",
      "=================================================================\n",
      "conv3d (Conv3D)              (None, 20, 84, 84, 32)    2624      \n",
      "_________________________________________________________________\n",
      "activation (Activation)      (None, 20, 84, 84, 32)    0         \n",
      "_________________________________________________________________\n",
      "conv3d_1 (Conv3D)            (None, 18, 82, 82, 32)    27680     \n",
      "_________________________________________________________________\n",
      "activation_1 (Activation)    (None, 18, 82, 82, 32)    0         \n",
      "_________________________________________________________________\n",
      "max_pooling3d (MaxPooling3D) (None, 9, 41, 41, 32)     0         \n",
      "_________________________________________________________________\n",
      "batch_normalization (BatchNo (None, 9, 41, 41, 32)     128       \n",
      "_________________________________________________________________\n",
      "dropout (Dropout)            (None, 9, 41, 41, 32)     0         \n",
      "_________________________________________________________________\n",
      "conv3d_2 (Conv3D)            (None, 9, 41, 41, 64)     55360     \n",
      "_________________________________________________________________\n",
      "activation_2 (Activation)    (None, 9, 41, 41, 64)     0         \n",
      "_________________________________________________________________\n",
      "conv3d_3 (Conv3D)            (None, 7, 39, 39, 64)     110656    \n",
      "_________________________________________________________________\n",
      "activation_3 (Activation)    (None, 7, 39, 39, 64)     0         \n",
      "_________________________________________________________________\n",
      "max_pooling3d_1 (MaxPooling3 (None, 3, 19, 19, 64)     0         \n",
      "_________________________________________________________________\n",
      "batch_normalization_1 (Batch (None, 3, 19, 19, 64)     256       \n",
      "_________________________________________________________________\n",
      "dropout_1 (Dropout)          (None, 3, 19, 19, 64)     0         \n",
      "_________________________________________________________________\n",
      "flatten (Flatten)            (None, 69312)             0         \n",
      "_________________________________________________________________\n",
      "dense (Dense)                (None, 512)               35488256  \n",
      "_________________________________________________________________\n",
      "activation_4 (Activation)    (None, 512)               0         \n",
      "_________________________________________________________________\n",
      "dropout_2 (Dropout)          (None, 512)               0         \n",
      "_________________________________________________________________\n",
      "dense_1 (Dense)              (None, 5)                 2565      \n",
      "_________________________________________________________________\n",
      "activation_5 (Activation)    (None, 5)                 0         \n",
      "=================================================================\n",
      "Total params: 35,687,525\n",
      "Trainable params: 35,687,333\n",
      "Non-trainable params: 192\n",
      "_________________________________________________________________\n",
      "None\n"
     ]
    }
   ],
   "source": [
    "optimiser = 'adam'\n",
    "model.compile(optimizer=optimiser, loss='categorical_crossentropy', metrics=['categorical_accuracy'])\n",
    "print(model.summary())"
   ]
  },
  {
   "cell_type": "markdown",
   "metadata": {},
   "source": [
    "Let us create the `train_generator` and the `val_generator` which will be used in `.fit_generator`."
   ]
  },
  {
   "cell_type": "code",
   "execution_count": 10,
   "metadata": {},
   "outputs": [],
   "source": [
    "train_generator = generator(train_path, train_doc, batch_size)\n",
    "val_generator = generator(val_path, val_doc, batch_size)"
   ]
  },
  {
   "cell_type": "code",
   "execution_count": 11,
   "metadata": {},
   "outputs": [
    {
     "name": "stderr",
     "output_type": "stream",
     "text": [
      "WARNING: Logging before flag parsing goes to stderr.\n",
      "W0510 14:58:12.982301 140055224874816 callbacks.py:1071] `period` argument is deprecated. Please use `save_freq` to specify the frequency in number of batches seen.\n"
     ]
    }
   ],
   "source": [
    "model_name = 'model_init' + '_' + str(curr_dt_time).replace(' ','').replace(':','_') + '/'\n",
    "    \n",
    "if not os.path.exists(model_name):\n",
    "    os.mkdir(model_name)\n",
    "        \n",
    "filepath = model_name + 'model-{epoch:05d}-{loss:.5f}-{categorical_accuracy:.5f}-{val_loss:.5f}-{val_categorical_accuracy:.5f}.h5'\n",
    "\n",
    "checkpoint = ModelCheckpoint(filepath, monitor='val_loss', verbose=1, save_best_only=True, save_weights_only=False, mode='auto', period=1)\n",
    "\n",
    "LR = ReduceLROnPlateau(monitor='val_loss', patience=5, factor=0.1, min_lr=0)\n",
    "callbacks_list = [checkpoint, LR]"
   ]
  },
  {
   "cell_type": "markdown",
   "metadata": {},
   "source": [
    "The `steps_per_epoch` and `validation_steps` are used by `fit_generator` to decide the number of next() calls it need to make."
   ]
  },
  {
   "cell_type": "code",
   "execution_count": 12,
   "metadata": {},
   "outputs": [],
   "source": [
    "if (num_train_sequences%batch_size) == 0:\n",
    "    steps_per_epoch = int(num_train_sequences/batch_size)\n",
    "else:\n",
    "    steps_per_epoch = (num_train_sequences//batch_size) + 1\n",
    "\n",
    "if (num_val_sequences%batch_size) == 0:\n",
    "    validation_steps = int(num_val_sequences/batch_size)\n",
    "else:\n",
    "    validation_steps = (num_val_sequences//batch_size) + 1"
   ]
  },
  {
   "cell_type": "markdown",
   "metadata": {},
   "source": [
    "Let us now fit the model. This will start training the model and with the help of the checkpoints, you'll be able to save the model at the end of each epoch."
   ]
  },
  {
   "cell_type": "code",
   "execution_count": 13,
   "metadata": {},
   "outputs": [
    {
     "name": "stdout",
     "output_type": "stream",
     "text": [
      "Source path =  Project_data/train ; batch size = 32\n",
      "Epoch 1/30\n",
      "21/21 [==============================] - ETA: 0s - loss: 7.7912 - categorical_accuracy: 0.4077Source path =  Project_data/val ; batch size = 32\n",
      "\n",
      "Epoch 00001: val_loss improved from inf to 17.74419, saving model to model_init_2021-05-1014_57_35.256971/model-00001-7.79115-0.40774-17.74419-0.21094.h5\n",
      "21/21 [==============================] - 228s 11s/step - loss: 7.7912 - categorical_accuracy: 0.4077 - val_loss: 17.7442 - val_categorical_accuracy: 0.2109 - lr: 0.0010\n",
      "Epoch 2/30\n",
      "21/21 [==============================] - ETA: 0s - loss: 3.2213 - categorical_accuracy: 0.5521\n",
      "Epoch 00002: val_loss did not improve from 17.74419\n",
      "21/21 [==============================] - 233s 11s/step - loss: 3.2213 - categorical_accuracy: 0.5521 - val_loss: 22.5039 - val_categorical_accuracy: 0.2109 - lr: 0.0010\n",
      "Epoch 3/30\n",
      "21/21 [==============================] - ETA: 0s - loss: 1.5950 - categorical_accuracy: 0.6562\n",
      "Epoch 00003: val_loss improved from 17.74419 to 12.05380, saving model to model_init_2021-05-1014_57_35.256971/model-00003-1.59501-0.65625-12.05380-0.14844.h5\n",
      "21/21 [==============================] - 228s 11s/step - loss: 1.5950 - categorical_accuracy: 0.6562 - val_loss: 12.0538 - val_categorical_accuracy: 0.1484 - lr: 0.0010\n",
      "Epoch 4/30\n",
      "21/21 [==============================] - ETA: 0s - loss: 1.1269 - categorical_accuracy: 0.7009\n",
      "Epoch 00004: val_loss improved from 12.05380 to 10.92660, saving model to model_init_2021-05-1014_57_35.256971/model-00004-1.12690-0.70089-10.92660-0.21094.h5\n",
      "21/21 [==============================] - 231s 11s/step - loss: 1.1269 - categorical_accuracy: 0.7009 - val_loss: 10.9266 - val_categorical_accuracy: 0.2109 - lr: 0.0010\n",
      "Epoch 5/30\n",
      "21/21 [==============================] - ETA: 0s - loss: 0.5740 - categorical_accuracy: 0.8080\n",
      "Epoch 00005: val_loss improved from 10.92660 to 8.12972, saving model to model_init_2021-05-1014_57_35.256971/model-00005-0.57401-0.80804-8.12972-0.18750.h5\n",
      "21/21 [==============================] - 228s 11s/step - loss: 0.5740 - categorical_accuracy: 0.8080 - val_loss: 8.1297 - val_categorical_accuracy: 0.1875 - lr: 0.0010\n",
      "Epoch 6/30\n",
      "21/21 [==============================] - ETA: 0s - loss: 0.4590 - categorical_accuracy: 0.8720\n",
      "Epoch 00006: val_loss improved from 8.12972 to 7.02284, saving model to model_init_2021-05-1014_57_35.256971/model-00006-0.45903-0.87202-7.02284-0.21094.h5\n",
      "21/21 [==============================] - 234s 11s/step - loss: 0.4590 - categorical_accuracy: 0.8720 - val_loss: 7.0228 - val_categorical_accuracy: 0.2109 - lr: 0.0010\n",
      "Epoch 7/30\n",
      "15/21 [====================>.........] - ETA: 49s - loss: 0.5767 - categorical_accuracy: 0.8354\n",
      "Epoch 00007: val_loss improved from 7.02284 to 7.00394, saving model to model_init_2021-05-1014_57_35.256971/model-00007-0.55131-0.84821-7.00394-0.20312.h5\n",
      "21/21 [==============================] - 234s 11s/step - loss: 0.5513 - categorical_accuracy: 0.8482 - val_loss: 7.0039 - val_categorical_accuracy: 0.2031 - lr: 0.0010\n",
      "Epoch 8/30\n",
      "21/21 [==============================] - ETA: 0s - loss: 0.2974 - categorical_accuracy: 0.9062\n",
      "Epoch 00008: val_loss improved from 7.00394 to 5.31374, saving model to model_init_2021-05-1014_57_35.256971/model-00008-0.29744-0.90625-5.31374-0.26562.h5\n",
      "21/21 [==============================] - 224s 11s/step - loss: 0.2974 - categorical_accuracy: 0.9062 - val_loss: 5.3137 - val_categorical_accuracy: 0.2656 - lr: 0.0010\n",
      "Epoch 9/30\n",
      "21/21 [==============================] - ETA: 0s - loss: 0.2623 - categorical_accuracy: 0.9137\n",
      "Epoch 00009: val_loss did not improve from 5.31374\n",
      "21/21 [==============================] - 224s 11s/step - loss: 0.2623 - categorical_accuracy: 0.9137 - val_loss: 5.3151 - val_categorical_accuracy: 0.3125 - lr: 0.0010\n",
      "Epoch 10/30\n",
      "21/21 [==============================] - ETA: 0s - loss: 0.2762 - categorical_accuracy: 0.9211\n",
      "Epoch 00010: val_loss improved from 5.31374 to 3.23164, saving model to model_init_2021-05-1014_57_35.256971/model-00010-0.27624-0.92113-3.23164-0.33594.h5\n",
      "21/21 [==============================] - 224s 11s/step - loss: 0.2762 - categorical_accuracy: 0.9211 - val_loss: 3.2316 - val_categorical_accuracy: 0.3359 - lr: 0.0010\n",
      "Epoch 11/30\n",
      "21/21 [==============================] - ETA: 0s - loss: 0.1771 - categorical_accuracy: 0.9405\n",
      "Epoch 00011: val_loss did not improve from 3.23164\n",
      "21/21 [==============================] - 219s 10s/step - loss: 0.1771 - categorical_accuracy: 0.9405 - val_loss: 3.7792 - val_categorical_accuracy: 0.3672 - lr: 0.0010\n",
      "Epoch 12/30\n",
      "21/21 [==============================] - ETA: 0s - loss: 0.1669 - categorical_accuracy: 0.9568\n",
      "Epoch 00012: val_loss did not improve from 3.23164\n",
      "21/21 [==============================] - 217s 10s/step - loss: 0.1669 - categorical_accuracy: 0.9568 - val_loss: 4.1613 - val_categorical_accuracy: 0.4453 - lr: 0.0010\n",
      "Epoch 13/30\n",
      "21/21 [==============================] - ETA: 0s - loss: 0.2007 - categorical_accuracy: 0.9464\n",
      "Epoch 00013: val_loss did not improve from 3.23164\n",
      "21/21 [==============================] - 208s 10s/step - loss: 0.2007 - categorical_accuracy: 0.9464 - val_loss: 5.2884 - val_categorical_accuracy: 0.3125 - lr: 0.0010\n",
      "Epoch 14/30\n",
      "21/21 [==============================] - ETA: 0s - loss: 0.2001 - categorical_accuracy: 0.9390\n",
      "Epoch 00014: val_loss did not improve from 3.23164\n",
      "21/21 [==============================] - 215s 10s/step - loss: 0.2001 - categorical_accuracy: 0.9390 - val_loss: 7.0754 - val_categorical_accuracy: 0.2812 - lr: 0.0010\n",
      "Epoch 15/30\n",
      "14/21 [===================>..........] - ETA: 54s - loss: 0.1899 - categorical_accuracy: 0.9397 \n",
      "Epoch 00015: val_loss improved from 3.23164 to 2.32372, saving model to model_init_2021-05-1014_57_35.256971/model-00015-0.17472-0.94345-2.32372-0.55469.h5\n",
      "21/21 [==============================] - 223s 11s/step - loss: 0.1747 - categorical_accuracy: 0.9435 - val_loss: 2.3237 - val_categorical_accuracy: 0.5547 - lr: 0.0010\n",
      "Epoch 16/30\n",
      "21/21 [==============================] - ETA: 0s - loss: 0.1959 - categorical_accuracy: 0.9449\n",
      "Epoch 00016: val_loss did not improve from 2.32372\n",
      "21/21 [==============================] - 213s 10s/step - loss: 0.1959 - categorical_accuracy: 0.9449 - val_loss: 6.6669 - val_categorical_accuracy: 0.3047 - lr: 0.0010\n",
      "Epoch 17/30\n",
      "21/21 [==============================] - ETA: 0s - loss: 0.2642 - categorical_accuracy: 0.9420\n",
      "Epoch 00017: val_loss did not improve from 2.32372\n",
      "21/21 [==============================] - 212s 10s/step - loss: 0.2642 - categorical_accuracy: 0.9420 - val_loss: 6.3318 - val_categorical_accuracy: 0.4922 - lr: 0.0010\n",
      "Epoch 18/30\n",
      "21/21 [==============================] - ETA: 0s - loss: 0.1476 - categorical_accuracy: 0.9598\n",
      "Epoch 00018: val_loss did not improve from 2.32372\n",
      "21/21 [==============================] - 213s 10s/step - loss: 0.1476 - categorical_accuracy: 0.9598 - val_loss: 4.5245 - val_categorical_accuracy: 0.5078 - lr: 0.0010\n",
      "Epoch 19/30\n",
      "21/21 [==============================] - ETA: 0s - loss: 0.1714 - categorical_accuracy: 0.9479\n",
      "Epoch 00019: val_loss did not improve from 2.32372\n",
      "21/21 [==============================] - 220s 10s/step - loss: 0.1714 - categorical_accuracy: 0.9479 - val_loss: 6.7240 - val_categorical_accuracy: 0.4219 - lr: 0.0010\n",
      "Epoch 20/30\n",
      "21/21 [==============================] - ETA: 0s - loss: 0.1384 - categorical_accuracy: 0.9658\n",
      "Epoch 00020: val_loss did not improve from 2.32372\n",
      "21/21 [==============================] - 219s 10s/step - loss: 0.1384 - categorical_accuracy: 0.9658 - val_loss: 15.6223 - val_categorical_accuracy: 0.2109 - lr: 0.0010\n",
      "Epoch 21/30\n",
      "21/21 [==============================] - ETA: 0s - loss: 0.0651 - categorical_accuracy: 0.9762\n",
      "Epoch 00022: val_loss did not improve from 2.32372\n",
      "21/21 [==============================] - 212s 10s/step - loss: 0.0651 - categorical_accuracy: 0.9762 - val_loss: 6.5993 - val_categorical_accuracy: 0.3594 - lr: 1.0000e-04\n",
      "Epoch 23/30\n",
      "21/21 [==============================] - ETA: 0s - loss: 0.0377 - categorical_accuracy: 0.9896\n",
      "Epoch 00023: val_loss did not improve from 2.32372\n",
      "21/21 [==============================] - 215s 10s/step - loss: 0.0377 - categorical_accuracy: 0.9896 - val_loss: 5.6996 - val_categorical_accuracy: 0.4375 - lr: 1.0000e-04\n"
     ]
    },
    {
     "name": "stdout",
     "output_type": "stream",
     "text": [
      "Epoch 24/30\n",
      "21/21 [==============================] - ETA: 0s - loss: 0.0668 - categorical_accuracy: 0.9777\n",
      "Epoch 00024: val_loss did not improve from 2.32372\n",
      "21/21 [==============================] - 216s 10s/step - loss: 0.0668 - categorical_accuracy: 0.9777 - val_loss: 4.5670 - val_categorical_accuracy: 0.5156 - lr: 1.0000e-04\n",
      "Epoch 25/30\n",
      "21/21 [==============================] - ETA: 0s - loss: 0.0267 - categorical_accuracy: 0.9926\n",
      "Epoch 00025: val_loss did not improve from 2.32372\n",
      "21/21 [==============================] - 212s 10s/step - loss: 0.0267 - categorical_accuracy: 0.9926 - val_loss: 3.8651 - val_categorical_accuracy: 0.5625 - lr: 1.0000e-04\n",
      "Epoch 26/30\n",
      "21/21 [==============================] - ETA: 0s - loss: 0.0519 - categorical_accuracy: 0.9851\n",
      "Epoch 00026: val_loss did not improve from 2.32372\n",
      "21/21 [==============================] - 218s 10s/step - loss: 0.0519 - categorical_accuracy: 0.9851 - val_loss: 4.4224 - val_categorical_accuracy: 0.6094 - lr: 1.0000e-05\n",
      "Epoch 27/30\n",
      "21/21 [==============================] - ETA: 0s - loss: 0.0223 - categorical_accuracy: 0.9940\n",
      "Epoch 00027: val_loss did not improve from 2.32372\n",
      "21/21 [==============================] - 210s 10s/step - loss: 0.0223 - categorical_accuracy: 0.9940 - val_loss: 2.7960 - val_categorical_accuracy: 0.7344 - lr: 1.0000e-05\n",
      "Epoch 28/30\n",
      "21/21 [==============================] - ETA: 0s - loss: 0.0451 - categorical_accuracy: 0.9836\n",
      "Epoch 00028: val_loss did not improve from 2.32372\n",
      "21/21 [==============================] - 209s 10s/step - loss: 0.0451 - categorical_accuracy: 0.9836 - val_loss: 2.8813 - val_categorical_accuracy: 0.6016 - lr: 1.0000e-05\n",
      "Epoch 29/30\n",
      "21/21 [==============================] - ETA: 0s - loss: 0.0440 - categorical_accuracy: 0.9881\n",
      "Epoch 00029: val_loss did not improve from 2.32372\n",
      "21/21 [==============================] - 214s 10s/step - loss: 0.0440 - categorical_accuracy: 0.9881 - val_loss: 2.6698 - val_categorical_accuracy: 0.6562 - lr: 1.0000e-05\n",
      "Epoch 30/30\n",
      "21/21 [==============================] - ETA: 0s - loss: 0.0336 - categorical_accuracy: 0.9911\n",
      "Epoch 00030: val_loss did not improve from 2.32372\n",
      "21/21 [==============================] - 212s 10s/step - loss: 0.0336 - categorical_accuracy: 0.9911 - val_loss: 2.7582 - val_categorical_accuracy: 0.7344 - lr: 1.0000e-05\n"
     ]
    }
   ],
   "source": [
    "history = model.fit(train_generator, steps_per_epoch=steps_per_epoch, epochs=num_epochs, verbose=1, \n",
    "                    callbacks=callbacks_list, validation_data=val_generator, \n",
    "                    validation_steps=validation_steps, class_weight=None, workers=1, initial_epoch=0)"
   ]
  },
  {
   "cell_type": "code",
   "execution_count": 14,
   "metadata": {},
   "outputs": [
    {
     "data": {
      "image/png": "[encoded data removed]",
      "text/plain": [
       "<Figure size 576x576 with 2 Axes>"
      ]
     },
     "metadata": {
      "needs_background": "light"
     },
     "output_type": "display_data"
    }
   ],
   "source": [
    "acc = history.history['categorical_accuracy']\n",
    "val_acc = history.history['val_categorical_accuracy']\n",
    "\n",
    "loss = history.history['loss']\n",
    "val_loss = history.history['val_loss']\n",
    "\n",
    "epochs_range = range(num_epochs)\n",
    "\n",
    "plt.figure(figsize=(8, 8))\n",
    "plt.subplot(1, 2, 1)\n",
    "plt.plot(epochs_range, acc, label='Training Accuracy')\n",
    "plt.plot(epochs_range, val_acc, label='Validation Accuracy')\n",
    "plt.legend(loc='lower right')\n",
    "plt.title('Training and Validation Accuracy')\n",
    "\n",
    "plt.subplot(1, 2, 2)\n",
    "plt.plot(epochs_range, loss, label='Training Loss')\n",
    "plt.plot(epochs_range, val_loss, label='Validation Loss')\n",
    "plt.legend(loc='upper right')\n",
    "plt.title('Training and Validation Loss')\n",
    "plt.show()"
   ]
  },
  {
   "cell_type": "code",
   "execution_count": null,
   "metadata": {},
   "outputs": [],
   "source": []
  }
 ],
 "metadata": {
  "kernelspec": {
   "display_name": "Python 3",
   "language": "python",
   "name": "python3"
  },
  "language_info": {
   "codemirror_mode": {
    "name": "ipython",
    "version": 3
   },
   "file_extension": ".py",
   "mimetype": "text/x-python",
   "name": "python",
   "nbconvert_exporter": "python",
   "pygments_lexer": "ipython3",
   "version": "3.8.3"
  }
 },
 "nbformat": 4,
 "nbformat_minor": 2
}
